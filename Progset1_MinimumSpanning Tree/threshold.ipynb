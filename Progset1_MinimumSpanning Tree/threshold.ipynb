{
 "cells": [
  {
   "cell_type": "code",
   "execution_count": 127,
   "id": "573c36b6",
   "metadata": {},
   "outputs": [],
   "source": [
    "import random\n",
    "import time\n",
    "import numpy as np\n",
    "\n",
    "class Graph:\n",
    "    \n",
    "    def __init__(self, vertices):\n",
    "        self.V = vertices # No. of vertices\n",
    "        self.graph = [] # to store graph\n",
    "#         self.parent = []\n",
    "#         self.rank = []\n",
    "        self.parent = np.arange(0,self.V,1) \n",
    "        self.rank = [0] * self.V\n",
    "        \n",
    "    def set_graph(self, dimension):\n",
    "        \n",
    "        if dimension == 0:\n",
    "#             bar = 0.5/(np.log2(self.V))**2\n",
    "            for i in range(self.V):\n",
    "                res = np.random.rand(self.V-i-1)\n",
    "                p = np.arange(i+1,self.V,1)\n",
    "                for u, value in zip(p,res):\n",
    "                    self.graph.append([i, u, value])\n",
    "#                 print(i, end = '\\r')\n",
    "          \n",
    "        if dimension == 2:\n",
    "            for i in range(self.V):\n",
    "                x1 = np.random.rand(self.V-i-1)\n",
    "                x2 = np.random.rand(self.V-i-1)\n",
    "                res = (x1**2+x2**2)**0.5\n",
    "                p = np.arange(i+1,self.V,1)\n",
    "                for u, value in zip(p,res):\n",
    "                    self.graph.append([i, u, value])\n",
    "                    \n",
    "        if dimension == 3:\n",
    "            for i in range(self.V):\n",
    "                x1 = np.random.rand(self.V-i-1)\n",
    "                x2 = np.random.rand(self.V-i-1)\n",
    "                x3 = np.random.rand(self.V-i-1)\n",
    "                res = (x1**2+x2**2+x3**2)**0.5\n",
    "                p = np.arange(i+1,self.V,1)\n",
    "                for u, value in zip(p,res):\n",
    "                    self.graph.append([i, u, value])\n",
    "        \n",
    "        if dimension == 4:\n",
    "            for i in range(self.V):\n",
    "                x1 = np.random.rand(self.V-i-1)\n",
    "                x2 = np.random.rand(self.V-i-1)\n",
    "                x3 = np.random.rand(self.V-i-1)\n",
    "                x4 = np.random.rand(self.V-i-1)\n",
    "                res = (x1**2+x2**2+x3**2+x4**2)**0.5\n",
    "                p = np.arange(i+1,self.V,1)\n",
    "                for u, value in zip(p,res):\n",
    "                    self.graph.append([i, u, value])\n",
    "                    \n",
    "        \n",
    "    \n",
    "    def find(self, i):\n",
    "        if self.parent[i] != i:\n",
    "            self.parent[i] = self.find(self.parent[i])\n",
    "        return self.parent[i]\n",
    "    \n",
    "    def link(self, i, j):\n",
    "        if self.rank[i] > self.rank[j]:\n",
    "            self.parent[j] = i\n",
    "        if self.rank[i] < self.rank[j]:\n",
    "            self.parent[i] = j\n",
    "        if self.rank[i] == self.rank[j]:\n",
    "            self.parent[j] = i\n",
    "            self.rank[i] += 1\n",
    "     \n",
    "    def union(self,i,j):\n",
    "        self.link(self.find(i), self.find(j))\n",
    "\n",
    "    def kruskal(self):\n",
    "        mst = []\n",
    "        self.graph = sorted(self.graph, key=lambda item: item[2])\n",
    "        self.parent = np.arange(0,self.V,1) \n",
    "        self.rank = [0] * self.V\n",
    "#         i = 0\n",
    "        for edge in self.graph:\n",
    "            if self.find(edge[0]) != self.find(edge[1]):\n",
    "                mst.append(edge[2])\n",
    "                self.union(edge[0], edge[1])\n",
    "#             i += 1   \n",
    "#             print(i, end = '\\r')\n",
    "        return mst"
   ]
  },
  {
   "cell_type": "code",
   "execution_count": 128,
   "id": "00b1ca20",
   "metadata": {},
   "outputs": [],
   "source": [
    "if __name__ == \"__main__\":\n",
    "    # seed = [2, 15, 53, 77, 113]\n",
    "    import pandas as pd\n",
    "    trial = 1\n",
    "    timeRec = []\n",
    "    for n in [128, 256, 512, 1024, 2048, 4096]:\n",
    "        for d in [0,2,3,4]:\n",
    "            start = time.time()\n",
    "            \n",
    "            random.seed(2)\n",
    "            g = Graph(n)\n",
    "            g.set_graph(d)\n",
    "            result=g.kruskal()\n",
    "            \n",
    "            res = pd.Series(result)\n",
    "            path = \"n{0}_d{1}_trial{2}\".format(n, d, trial)\n",
    "            res.to_csv(path)\n",
    "            \n",
    "            end = time.time()\n",
    "            t = (end-start) * 10**3 \n",
    "            timeRec.append([n, d, t])\n",
    "    timedf = pd.DataFrame(timeRec)\n",
    "    patht = \"time_trial{0}\".format(trial)\n",
    "    timedf.to_csv(patht)"
   ]
  },
  {
   "cell_type": "code",
   "execution_count": 4,
   "id": "633285e3",
   "metadata": {},
   "outputs": [],
   "source": [
    "import pandas as pd\n",
    "import numpy as np"
   ]
  },
  {
   "cell_type": "code",
   "execution_count": 5,
   "id": "ec29ba6d",
   "metadata": {},
   "outputs": [],
   "source": [
    "n = [128, 256, 512, 1024, 2048, 4096]\n",
    "f0 = []\n",
    "for i in n:\n",
    "    temp = []\n",
    "    for trial in range(5):\n",
    "        path = \"n{0}_d{1}_trial{2}\".format(i, 0, trial+1)\n",
    "        df = pd.read_csv(path)\n",
    "        temp.append(df.quantile(0.95, axis = 0)[-1])\n",
    "    avg_n = np.mean(temp)\n",
    "    f0.append(avg_n) \n",
    "\n",
    "f2 = []\n",
    "for i in n:\n",
    "    temp = []\n",
    "    for trial in range(5):\n",
    "        path = \"n{0}_d{1}_trial{2}\".format(i, 2, trial+1)\n",
    "        df = pd.read_csv(path)\n",
    "        temp.append(df.quantile(0.95, axis = 0)[-1])\n",
    "    avg_n = np.mean(temp)\n",
    "    f2.append(avg_n)\n",
    "\n",
    "f3 = []\n",
    "for i in n:\n",
    "    temp = []\n",
    "    for trial in range(5):\n",
    "        path = \"n{0}_d{1}_trial{2}\".format(i, 3, trial+1)\n",
    "        df = pd.read_csv(path)\n",
    "        temp.append(df.quantile(0.95, axis = 0)[-1])\n",
    "    avg_n = np.mean(temp)\n",
    "    f3.append(avg_n)\n",
    "\n",
    "f4 = []\n",
    "for i in n:\n",
    "    temp = []\n",
    "    for trial in range(5):\n",
    "        path = \"n{0}_d{1}_trial{2}\".format(i, 4, trial+1)\n",
    "        df = pd.read_csv(path)\n",
    "        temp.append(df.quantile(0.95, axis = 0)[-1])\n",
    "    avg_n = np.mean(temp)\n",
    "    f4.append(avg_n)"
   ]
  },
  {
   "cell_type": "code",
   "execution_count": 10,
   "id": "313e49fc",
   "metadata": {},
   "outputs": [
    {
     "data": {
      "image/png": "[encoded data removed]",
      "text/plain": [
       "<Figure size 432x288 with 1 Axes>"
      ]
     },
     "metadata": {
      "needs_background": "light"
     },
     "output_type": "display_data"
    }
   ],
   "source": [
    "if __name__ == \"__main__\":\n",
    "    from matplotlib import pyplot as plt\n",
    "\n",
    "    l0, = plt.plot(n, f0, color='red')\n",
    "    l2, = plt.plot(n, f2, color='blue')\n",
    "    l3, = plt.plot(n, f3, color='green')\n",
    "    l4, = plt.plot(n, f4, color='orange')\n",
    "    plt.xlabel('number of vertices')\n",
    "    plt.ylabel('95-th percentile of MST edge weight')\n",
    "    plt.title('')\n",
    "    plt.legend(handles=[l0,l2,l3,l4],labels=['d = 0','d = 2','d = 3','d = 4'],loc='best')\n",
    "    plt.show()"
   ]
  },
  {
   "cell_type": "code",
   "execution_count": 17,
   "id": "139e6d68",
   "metadata": {},
   "outputs": [
    {
     "data": {
      "text/plain": [
       "<matplotlib.legend.Legend at 0x16b817a60>"
      ]
     },
     "execution_count": 17,
     "metadata": {},
     "output_type": "execute_result"
    },
    {
     "data": {
      "image/png": "[encoded data removed]",
      "text/plain": [
       "<Figure size 432x288 with 1 Axes>"
      ]
     },
     "metadata": {
      "needs_background": "light"
     },
     "output_type": "display_data"
    }
   ],
   "source": [
    "def k(n,r):\n",
    "    if r == 0: \n",
    "        d = 1\n",
    "    else: d = r\n",
    "    num = np.array(n)\n",
    "    return num**(-1/d)\n",
    "\n",
    "l0,=plt.plot(n, f4, color='red')\n",
    "l1,=plt.plot(n, 2*k(n,4), color='cyan')\n",
    "plt.xlabel('number of vertices')\n",
    "plt.ylabel('95-th percentile of MST edge weight')\n",
    "plt.title('')\n",
    "plt.legend(handles=[l0,l1],labels=['d = 4','2$n^{(-1/d)}, d = 4$'],loc='best')"
   ]
  },
  {
   "cell_type": "code",
   "execution_count": 126,
   "id": "45e8a887",
   "metadata": {},
   "outputs": [
    {
     "name": "stdout",
     "output_type": "stream",
     "text": [
      "[3.15, 2.0, 1.82, 1.79]\n"
     ]
    }
   ],
   "source": [
    "def const(d,f):\n",
    "    s = np.linspace(4, 1, 100)\n",
    "    for c in range(len(s)):\n",
    "        if np.min(s[c]*k(n,d) - f)<=0:\n",
    "            return np.round(s[c-1],2)\n",
    "c = [const(1, f0),const(2, f2),const(3, f3),const(4, f4)]\n",
    "print(c)"
   ]
  },
  {
   "cell_type": "code",
   "execution_count": null,
   "id": "e0558c76",
   "metadata": {},
   "outputs": [],
   "source": []
  }
 ],
 "metadata": {
  "kernelspec": {
   "display_name": "Python 3 (ipykernel)",
   "language": "python",
   "name": "python3"
  },
  "language_info": {
   "codemirror_mode": {
    "name": "ipython",
    "version": 3
   },
   "file_extension": ".py",
   "mimetype": "text/x-python",
   "name": "python",
   "nbconvert_exporter": "python",
   "pygments_lexer": "ipython3",
   "version": "3.9.12"
  }
 },
 "nbformat": 4,
 "nbformat_minor": 5
}
