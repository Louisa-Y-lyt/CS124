{
 "cells": [
  {
   "cell_type": "code",
   "execution_count": 1,
   "id": "31ea9aee",
   "metadata": {},
   "outputs": [],
   "source": [
    "import math\n",
    "\n",
    "def strassen(a, b, n0):\n",
    "    \"\"\"\n",
    "    Multiply two matrices a and b together using Strassen's algorithm\n",
    "    \"\"\"\n",
    "    # Get dimensions of input matrices\n",
    "    a_rows, a_cols = len(a), len(a[0])\n",
    "    b_rows, b_cols = len(b), len(b[0])\n",
    "    \n",
    "    # Check that the matrices are compatible for multiplication\n",
    "    if a_cols != b_rows:\n",
    "        raise ValueError(\"Matrices are not compatible for multiplication\")\n",
    "    \n",
    "    # Pad matrices with zeros to make their dimensions powers of two\n",
    "    max_dim = max(a_rows, a_cols, b_cols)\n",
    "    padded_dim = 2 ** math.ceil(math.log2(max_dim))\n",
    "    a_padded = [[0 for _ in range(padded_dim)] for _ in range(padded_dim)]\n",
    "    b_padded = [[0 for _ in range(padded_dim)] for _ in range(padded_dim)]\n",
    "    for i in range(a_rows):\n",
    "        for j in range(a_cols):\n",
    "            a_padded[i][j] = a[i][j]\n",
    "    for i in range(b_rows):\n",
    "        for j in range(b_cols):\n",
    "            b_padded[i][j] = b[i][j]\n",
    "\n",
    "    # Perform Strassen's algorithm\n",
    "    result_padded = _strassen_helper(a_padded, b_padded, n0)\n",
    "\n",
    "    # Remove padding from result matrix\n",
    "    result = [[0 for _ in range(b_cols)] for _ in range(a_rows)]\n",
    "    for i in range(a_rows):\n",
    "        for j in range(b_cols):\n",
    "            result[i][j] = result_padded[i][j]\n",
    "    \n",
    "    return result\n",
    "\n",
    "def _strassen_helper(a, b, n0):\n",
    "    \"\"\"\n",
    "    Helper function to perform Strassen's algorithm on padded matrices\n",
    "    \"\"\"\n",
    "    # Get dimensions of input matrices\n",
    "    dim = len(a)\n",
    "    \n",
    "    # Base case: if dimensions are 1x1, return their product\n",
    "    if dim <= n0:\n",
    "        return simple_mulMat(a, b)\n",
    "    \n",
    "    # Split matrices into quadrants\n",
    "    half_dim = dim // 2\n",
    "    a11 = [a[i][:half_dim] for i in range(half_dim)]\n",
    "    a12 = [a[i][half_dim:] for i in range(half_dim)]\n",
    "    a21 = [a[i][:half_dim] for i in range(half_dim, dim)]\n",
    "    a22 = [a[i][half_dim:] for i in range(half_dim, dim)]\n",
    "    b11 = [b[i][:half_dim] for i in range(half_dim)]\n",
    "    b12 = [b[i][half_dim:] for i in range(half_dim)]\n",
    "    b21 = [b[i][:half_dim] for i in range(half_dim, dim)]\n",
    "    b22 = [b[i][half_dim:] for i in range(half_dim, dim)]\n",
    "    \n",
    "    # Compute products of submatrices\n",
    "    p1 = _strassen_helper(a11, _sub_matrices(b12, b22),n0)\n",
    "    p2 = _strassen_helper(_add_matrices(a11, a12), b22,n0)\n",
    "    p3 = _strassen_helper(_add_matrices(a21, a22), b11,n0)\n",
    "    p4 = _strassen_helper(a22, _sub_matrices(b21, b11), n0)\n",
    "    p5 = _strassen_helper(_add_matrices(a11, a22), _add_matrices(b11, b22),n0)\n",
    "    p6 = _strassen_helper(_sub_matrices(a12, a22), _add_matrices(b21, b22),n0)\n",
    "    p7 = _strassen_helper(_sub_matrices(a21, a11), _add_matrices(b11, b12),n0)\n",
    "\n",
    "    r11 = _add_matrices(_add_matrices(_sub_matrices(p4, p2),p5),p6)\n",
    "    r12 = _add_matrices(p1,p2)\n",
    "    r21 = _add_matrices(p3,p4)\n",
    "    r22 = _add_matrices(_add_matrices(_sub_matrices(p1, p3),p5),p7)\n",
    "    \n",
    "    # Grouping the results obtained in a single matrix:\n",
    "    R = [[0 for j in range(0, dim)] for i in range(0, dim)]\n",
    "    for i in range(0, half_dim):\n",
    "        for j in range(0, half_dim):\n",
    "            R[i][j] = r11[i][j]\n",
    "            R[i][j + half_dim] = r12[i][j]\n",
    "            R[i + half_dim][j] = r21[i][j]\n",
    "            R[i + half_dim][j + half_dim] = r22[i][j]\n",
    "    return R\n",
    "    \n",
    "def _sub_matrices(a,b):\n",
    "    n = len(a)\n",
    "    rslt = [[0 for _ in range(n)] for _ in range(n)]\n",
    "    \n",
    "    for i in range(n):\n",
    "        for j in range(n):\n",
    "            rslt[i][j] = a[i][j]-b[i][j]\n",
    "    return rslt\n",
    "\n",
    "def _add_matrices(a,b):\n",
    "    n = len(a)\n",
    "    rslt = [[0 for _ in range(n)] for _ in range(n)]\n",
    "    \n",
    "    for i in range(n):\n",
    "        for j in range(n):\n",
    "            rslt[i][j] = a[i][j]+b[i][j]\n",
    "    return rslt\n",
    "\n",
    "def simple_mulMat(mat1, mat2):\n",
    "    # List to store matrix multiplication result\n",
    "    n = len(mat1)\n",
    "    rslt = [[0 for _ in range(n)] for _ in range(n)]\n",
    "  \n",
    "    for i in range(n):\n",
    "        for j in range(n):\n",
    "            for k in range(n):\n",
    "                rslt[i][j] += mat1[i][k] * mat2[k][j]\n",
    "    return rslt"
   ]
  },
  {
   "cell_type": "code",
   "execution_count": 8,
   "id": "095de2ea",
   "metadata": {},
   "outputs": [
    {
     "name": "stdout",
     "output_type": "stream",
     "text": [
      "[12962.92495727539, 12298.866271972656]\n"
     ]
    }
   ],
   "source": [
    "import time\n",
    "import numpy as np\n",
    "mat1 = np.random.randint(2, size=(500, 500)).astype(float)\n",
    "mat2 = np.random.randint(2, size=(500, 500)).astype(float)\n",
    "mat1_1 = np.random.randint(2, size=(500, 500))\n",
    "mat2_1 = np.random.randint(2, size=(500, 500))\n",
    "res = []\n",
    "\n",
    "start = time.time()\n",
    "strassen(mat1, mat2, 32)\n",
    "end = time.time()\n",
    "running_ms = (end - start)*1000\n",
    "res.append(running_ms)\n",
    "\n",
    "start = time.time()\n",
    "strassen(mat1_1, mat2_1, 32)\n",
    "end = time.time()\n",
    "running_ms = (end - start)*1000\n",
    "res.append(running_ms)\n",
    "\n",
    "print(res)"
   ]
  },
  {
   "cell_type": "code",
   "execution_count": 16,
   "id": "bac32fb8",
   "metadata": {},
   "outputs": [
    {
     "name": "stdout",
     "output_type": "stream",
     "text": [
      "[176051.96809768677, 36695.054054260254]\n"
     ]
    }
   ],
   "source": [
    "mat1 = np.random.randint(2, size=(500, 500))\n",
    "mat2 = np.random.randint(2, size=(500, 500))\n",
    "res = []\n",
    "\n",
    "start = time.time()\n",
    "strassen(mat1, mat2, 1)\n",
    "end = time.time()\n",
    "running_ms = (end - start)*1000\n",
    "res.append(running_ms)\n",
    "\n",
    "start = time.time()\n",
    "simple_mulMat(mat1, mat2)\n",
    "end = time.time()\n",
    "running_ms = (end - start)*1000\n",
    "res.append(running_ms)\n",
    "\n",
    "print(res)"
   ]
  },
  {
   "cell_type": "code",
   "execution_count": 22,
   "id": "f5a3f0ea",
   "metadata": {},
   "outputs": [
    {
     "name": "stdout",
     "output_type": "stream",
     "text": [
      "[1264922.5769042969, 328847.17416763306]\n"
     ]
    }
   ],
   "source": [
    "mat1 = np.random.randint(2, size=(1024, 1024))\n",
    "mat2 = np.random.randint(2, size=(1024, 1024))\n",
    "res = []\n",
    "\n",
    "start = time.time()\n",
    "strassen(mat1, mat2, 1)\n",
    "end = time.time()\n",
    "running_ms = (end - start)*1000\n",
    "res.append(running_ms)\n",
    "\n",
    "start = time.time()\n",
    "simple_mulMat(mat1, mat2)\n",
    "end = time.time()\n",
    "running_ms = (end - start)*1000\n",
    "res.append(running_ms)\n",
    "\n",
    "print(res)"
   ]
  },
  {
   "cell_type": "code",
   "execution_count": 77,
   "id": "f1406fba",
   "metadata": {},
   "outputs": [
    {
     "name": "stdout",
     "output_type": "stream",
     "text": [
      "[1228219.0070152283, 376541.08595848083, 172965.45672416687, 113378.01885604858, 93242.39993095398, 88258.8632106781, 91350.5539894104, 98850.94499588013, 111420.93110084534, 128446.14100456238, 152116.8658733368]\n"
     ]
    }
   ],
   "source": [
    "import time\n",
    "import numpy as np\n",
    "mat1 = np.random.randint(2, size=(102, 102))\n",
    "mat2 = np.random.randint(2, size=(102, 102))\n",
    "res = []\n",
    "for i in range(10):\n",
    "    n0 = 2**i\n",
    "    start = time.time()\n",
    "    strassen(mat1, mat2, n0)\n",
    "    end = time.time()\n",
    "    running_ms = (end - start)*1000\n",
    "    res.append(running_ms)\n",
    "print(res)"
   ]
  },
  {
   "cell_type": "code",
   "execution_count": 125,
   "id": "46401382",
   "metadata": {},
   "outputs": [],
   "source": [
    "import time\n",
    "size_list = [700, 1000, 2000]\n",
    "component = [2, 3]\n",
    "running_time = []\n",
    "for s in size_list:\n",
    "    for c in component:\n",
    "        mat1 = np.random.randint(c, size=(s, s))\n",
    "        mat2 = np.random.randint(c, size=(s, s))\n",
    "        res = []\n",
    "        for i in range(9):\n",
    "            n0 = 2**i\n",
    "            start = time.time()\n",
    "            strassen(mat1, mat2, n0)\n",
    "            end = time.time()\n",
    "            running_ms = (end - start)*1000\n",
    "            res.append(running_ms)\n",
    "        running_time.append(res)"
   ]
  },
  {
   "cell_type": "code",
   "execution_count": 129,
   "id": "b381e827",
   "metadata": {},
   "outputs": [],
   "source": [
    "import pandas as pd\n",
    "running_df = pd.DataFrame(running_time)\n",
    "df = running_df.transpose()\n",
    "df.to_csv('runningTime_report.csv')"
   ]
  },
  {
   "cell_type": "code",
   "execution_count": null,
   "id": "acfdf6c7",
   "metadata": {},
   "outputs": [],
   "source": [
    "df.columns = ['700,2','700,3','1000,2','1000,3','2000,2','2000,3']"
   ]
  },
  {
   "cell_type": "code",
   "execution_count": null,
   "id": "d9783c11",
   "metadata": {},
   "outputs": [],
   "source": []
  },
  {
   "cell_type": "code",
   "execution_count": 126,
   "id": "f4b1fa62",
   "metadata": {},
   "outputs": [
    {
     "data": {
      "text/plain": [
       "[[1221177.3869991302,\n",
       "  374471.2219238281,\n",
       "  169804.5802116394,\n",
       "  110046.46110534668,\n",
       "  91858.22105407715,\n",
       "  87967.08416938782,\n",
       "  144128.1979084015,\n",
       "  2105401.8697738647,\n",
       "  2097904.3810367584],\n",
       " [1211035.7642173767,\n",
       "  372862.4918460846,\n",
       "  189657.8118801117,\n",
       "  126233.51883888245,\n",
       "  103723.4058380127,\n",
       "  97652.65393257141,\n",
       "  101764.36996459961,\n",
       "  112972.4771976471,\n",
       "  128947.95489311218],\n",
       " [1322441.328048706,\n",
       "  421365.1683330536,\n",
       "  192873.7678527832,\n",
       "  125125.92697143555,\n",
       "  103393.51105690002,\n",
       "  97995.58115005493,\n",
       "  103072.83902168274,\n",
       "  111575.22201538086,\n",
       "  126923.79593849182],\n",
       " [1335697.5028514862,\n",
       "  416883.8801383972,\n",
       "  193579.87999916077,\n",
       "  124915.92288017273,\n",
       "  103934.69619750977,\n",
       "  98334.8138332367,\n",
       "  102899.0957736969,\n",
       "  111669.98887062073,\n",
       "  126085.76011657715],\n",
       " [9079781.935214996,\n",
       "  2922191.5929317474,\n",
       "  1357912.5080108643,\n",
       "  881233.6251735687,\n",
       "  731494.6002960205,\n",
       "  684964.1218185425,\n",
       "  723881.8798065186,\n",
       "  780538.4368896484,\n",
       "  881868.1647777557],\n",
       " [9002106.608867645,\n",
       "  3602215.063095093,\n",
       "  1193224.3342399597,\n",
       "  777330.34491539,\n",
       "  651162.7900600433,\n",
       "  615458.8420391083,\n",
       "  638793.1079864502,\n",
       "  697857.6641082764,\n",
       "  791791.8751239777]]"
      ]
     },
     "execution_count": 126,
     "metadata": {},
     "output_type": "execute_result"
    }
   ],
   "source": [
    "running_time"
   ]
  },
  {
   "cell_type": "code",
   "execution_count": 143,
   "id": "e5ed978b",
   "metadata": {},
   "outputs": [
    {
     "data": {
      "text/plain": [
       "32"
      ]
     },
     "execution_count": 143,
     "metadata": {},
     "output_type": "execute_result"
    }
   ],
   "source": [
    "n = 2**5\n",
    "n"
   ]
  },
  {
   "cell_type": "code",
   "execution_count": 19,
   "id": "4ee7f6c5",
   "metadata": {},
   "outputs": [
    {
     "data": {
      "image/png": "[encoded data removed]",
      "text/plain": [
       "<Figure size 640x480 with 1 Axes>"
      ]
     },
     "metadata": {},
     "output_type": "display_data"
    }
   ],
   "source": [
    "import numpy as np\n",
    "import math\n",
    "\n",
    "# set the number of vertices\n",
    "n = 1024\n",
    "n0 = 32\n",
    "\n",
    "# create a list of probabilities to try\n",
    "ps = [0.01, 0.02, 0.03, 0.04, 0.05]\n",
    "\n",
    "# initialize lists to store the results\n",
    "expected_triangles_list = []\n",
    "actual_triangles_list = []\n",
    "\n",
    "# loop over probabilities\n",
    "for p in ps:\n",
    "    # create a random adjacency matrix\n",
    "    A_lower = np.tril((np.random.rand(n,n) <= p).astype(int), -1)\n",
    "    A = A_lower + A_lower.transpose()\n",
    "\n",
    "    # calculate the expected number of triangles\n",
    "    expected_triangles = math.comb(n,3) * (p ** 3)\n",
    "    \n",
    "    # calculate the actual number of triangles using matrix multiplication\n",
    "    A2 = strassen(A, A, n0)\n",
    "    A3 = strassen(A2, A, n0)\n",
    "    actual_triangles = int(np.trace(A3) / 6)\n",
    "    \n",
    "    # add the results to the lists\n",
    "    expected_triangles_list.append(expected_triangles)\n",
    "    actual_triangles_list.append(actual_triangles)\n",
    "\n",
    "# create a bar chart comparing the expected and actual number of triangles\n",
    "import matplotlib.pyplot as plt\n",
    "\n",
    "fig, ax = plt.subplots()\n",
    "ax.bar(np.arange(len(ps)), expected_triangles_list, width=0.4, align='center', label='Expected')\n",
    "ax.bar(np.arange(len(ps))+0.4, actual_triangles_list, width=0.4, align='center', label='Actual')\n",
    "ax.set_xticks(np.arange(len(ps))+0.2)\n",
    "ax.set_xticklabels(ps)\n",
    "ax.set_xlabel('p')\n",
    "ax.set_ylabel('Number of triangles')\n",
    "ax.legend()\n",
    "plt.show()\n"
   ]
  },
  {
   "cell_type": "code",
   "execution_count": 20,
   "id": "f4a4e0e4",
   "metadata": {},
   "outputs": [
    {
     "data": {
      "text/plain": [
       "[178.43302400000002,\n",
       " 1427.4641920000001,\n",
       " 4817.691647999999,\n",
       " 11419.713536000001,\n",
       " 22304.128000000004]"
      ]
     },
     "execution_count": 20,
     "metadata": {},
     "output_type": "execute_result"
    }
   ],
   "source": [
    "expected_triangles_list"
   ]
  },
  {
   "cell_type": "code",
   "execution_count": 21,
   "id": "69cce24f",
   "metadata": {},
   "outputs": [
    {
     "data": {
      "text/plain": [
       "[152, 1483, 4702, 11542, 21548]"
      ]
     },
     "execution_count": 21,
     "metadata": {},
     "output_type": "execute_result"
    }
   ],
   "source": [
    "actual_triangles_list"
   ]
  },
  {
   "cell_type": "code",
   "execution_count": null,
   "id": "3d688b51",
   "metadata": {},
   "outputs": [],
   "source": []
  }
 ],
 "metadata": {
  "kernelspec": {
   "display_name": "Python 3 (ipykernel)",
   "language": "python",
   "name": "python3"
  },
  "language_info": {
   "codemirror_mode": {
    "name": "ipython",
    "version": 3
   },
   "file_extension": ".py",
   "mimetype": "text/x-python",
   "name": "python",
   "nbconvert_exporter": "python",
   "pygments_lexer": "ipython3",
   "version": "3.9.12"
  }
 },
 "nbformat": 4,
 "nbformat_minor": 5
}
